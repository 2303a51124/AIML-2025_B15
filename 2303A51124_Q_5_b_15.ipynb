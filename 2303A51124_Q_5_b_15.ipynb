{
  "nbformat": 4,
  "nbformat_minor": 0,
  "metadata": {
    "colab": {
      "provenance": [],
      "toc_visible": true,
      "authorship_tag": "ABX9TyOw2r0Ilqib45XS9TUAs0E6",
      "include_colab_link": true
    },
    "kernelspec": {
      "name": "python3",
      "display_name": "Python 3"
    },
    "language_info": {
      "name": "python"
    }
  },
  "cells": [
    {
      "cell_type": "markdown",
      "metadata": {
        "id": "view-in-github",
        "colab_type": "text"
      },
      "source": [
        "<a href=\"https://colab.research.google.com/github/2303a51124/AIML-2025_B15/blob/main/2303A51124_Q_5_b_15.ipynb\" target=\"_parent\"><img src=\"https://colab.research.google.com/assets/colab-badge.svg\" alt=\"Open In Colab\"/></a>"
      ]
    },
    {
      "cell_type": "code",
      "source": [
        "import pandas as pd"
      ],
      "metadata": {
        "id": "IDphEdkELl5d"
      },
      "execution_count": null,
      "outputs": []
    },
    {
      "cell_type": "code",
      "source": [
        "file_path = '/content/Recipe Reviews and User Feedback Dataset.csv'\n",
        "data = pd.read_csv(file_path)"
      ],
      "metadata": {
        "id": "3Tc1oFVGLpox"
      },
      "execution_count": null,
      "outputs": []
    },
    {
      "cell_type": "code",
      "source": [
        "most_appreciated = data.groupby('recipe_name').agg(\n",
        "    total_thumbs_up=('thumbs_up', 'sum'),\n",
        "    avg_stars=('stars', 'mean')\n",
        ").sort_values(by=['total_thumbs_up', 'avg_stars'], ascending=False).reset_index()"
      ],
      "metadata": {
        "id": "I5Eb9u-GL2J1"
      },
      "execution_count": null,
      "outputs": []
    },
    {
      "cell_type": "code",
      "source": [
        "most_prepared = data['recipe_name'].value_counts().head(5).reset_index()\n",
        "most_prepared.columns = ['recipe_name', 'review_count']"
      ],
      "metadata": {
        "id": "J8DioygdL6Rq"
      },
      "execution_count": null,
      "outputs": []
    },
    {
      "cell_type": "code",
      "source": [
        "most_delightful = data.groupby('recipe_name').agg(\n",
        "    avg_stars=('stars', 'mean')\n",
        ").sort_values(by='avg_stars', ascending=False).reset_index()\n"
      ],
      "metadata": {
        "id": "as3mu6a8L9ty"
      },
      "execution_count": null,
      "outputs": []
    },
    {
      "cell_type": "code",
      "source": [
        "highest_reputation = data.groupby('recipe_name').agg(\n",
        "    total_reputation=('user_reputation', 'sum')\n",
        ").sort_values(by='total_reputation', ascending=False).reset_index()"
      ],
      "metadata": {
        "id": "IuwCBfUGMBgR"
      },
      "execution_count": null,
      "outputs": []
    },
    {
      "cell_type": "code",
      "source": [
        "most_ordered = data['recipe_name'].value_counts().head(100).reset_index()\n",
        "most_ordered.columns = ['recipe_name', 'review_count']"
      ],
      "metadata": {
        "id": "IggkBJFZMFuh"
      },
      "execution_count": null,
      "outputs": []
    },
    {
      "cell_type": "code",
      "source": [
        "print(\"Q1: Most Appreciated Recipe\")\n",
        "print(most_appreciated.head(1))"
      ],
      "metadata": {
        "colab": {
          "base_uri": "https://localhost:8080/"
        },
        "id": "3MSzJFWqMJlu",
        "outputId": "e75f8ad2-478a-4f0d-dda6-9e1ffe24d33b"
      },
      "execution_count": null,
      "outputs": [
        {
          "output_type": "stream",
          "name": "stdout",
          "text": [
            "Q1: Most Appreciated Recipe\n",
            "                 recipe_name  total_thumbs_up  avg_stars\n",
            "0  Amish Breakfast Casserole              971   4.526627\n"
          ]
        }
      ]
    },
    {
      "cell_type": "code",
      "source": [
        "print(\"\\nQ2: Top 5 Recipes Prepared the Most\")\n",
        "print(most_prepared)\n"
      ],
      "metadata": {
        "colab": {
          "base_uri": "https://localhost:8080/"
        },
        "id": "QZZCtNVDMM9Z",
        "outputId": "edc843eb-59b7-4208-9304-dc806aba77d7"
      },
      "execution_count": null,
      "outputs": [
        {
          "output_type": "stream",
          "name": "stdout",
          "text": [
            "\n",
            "Q2: Top 5 Recipes Prepared the Most\n",
            "              recipe_name  review_count\n",
            "0       Cheeseburger Soup           725\n",
            "1      Creamy White Chili           654\n",
            "2  Best Ever Banana Bread           509\n",
            "3   Enchilada Casser-Ole!           421\n",
            "4    Basic Homemade Bread           397\n"
          ]
        }
      ]
    },
    {
      "cell_type": "code",
      "source": [
        "print(\"\\nQ3: Recipe with the Most User Delight\")\n",
        "print(most_delightful.head(1))"
      ],
      "metadata": {
        "colab": {
          "base_uri": "https://localhost:8080/"
        },
        "id": "yoKyzahIMQWX",
        "outputId": "8b9f9802-a5d3-42b7-f2b4-e13a4e91fe8f"
      },
      "execution_count": null,
      "outputs": [
        {
          "output_type": "stream",
          "name": "stdout",
          "text": [
            "\n",
            "Q3: Recipe with the Most User Delight\n",
            "                      recipe_name  avg_stars\n",
            "0  Rustic Italian Tortellini Soup   4.731343\n"
          ]
        }
      ]
    },
    {
      "cell_type": "code",
      "source": [
        "print(\"\\nQ4: Recipe with the Highest Reputation\")\n",
        "print(highest_reputation.head(1))"
      ],
      "metadata": {
        "colab": {
          "base_uri": "https://localhost:8080/"
        },
        "id": "npbNGhcwMTws",
        "outputId": "40476d21-9a90-4b5f-db85-17653a745636"
      },
      "execution_count": null,
      "outputs": [
        {
          "output_type": "stream",
          "name": "stdout",
          "text": [
            "\n",
            "Q4: Recipe with the Highest Reputation\n",
            "         recipe_name  total_reputation\n",
            "0  Cheeseburger Soup              1179\n"
          ]
        }
      ]
    },
    {
      "cell_type": "code",
      "source": [
        "print(\"\\nQ5: Most Ordered Recipes Among the Top 100\")\n",
        "print(most_ordered.head(5))"
      ],
      "metadata": {
        "colab": {
          "base_uri": "https://localhost:8080/"
        },
        "id": "cbwnu0DwMXp5",
        "outputId": "0067b2a8-ee8e-423c-81bf-cae0093fd971"
      },
      "execution_count": null,
      "outputs": [
        {
          "output_type": "stream",
          "name": "stdout",
          "text": [
            "\n",
            "Q5: Most Ordered Recipes Among the Top 100\n",
            "              recipe_name  review_count\n",
            "0       Cheeseburger Soup           725\n",
            "1      Creamy White Chili           654\n",
            "2  Best Ever Banana Bread           509\n",
            "3   Enchilada Casser-Ole!           421\n",
            "4    Basic Homemade Bread           397\n"
          ]
        }
      ]
    }
  ]
}